{
 "cells": [
  {
   "cell_type": "markdown",
   "metadata": {},
   "source": [
    "<div style=\"text-align: center;\">\n",
    "  <img src=\"https://github.com/Hack-io-Data/Imagenes/blob/main/01-LogosHackio/logo_naranja@4x.png?raw=true\" alt=\"esquema\" />\n",
    "</div>"
   ]
  },
  {
   "cell_type": "markdown",
   "metadata": {},
   "source": [
    "# Laboratorio de Regex:"
   ]
  },
  {
   "cell_type": "markdown",
   "metadata": {},
   "source": [
    "### Ejercicio 1: Extracción de datos.\n",
    "\n",
    "Recuerda que necesitamos hacer importaciones antes de enfrentarnos a un problema. "
   ]
  },
  {
   "cell_type": "code",
   "execution_count": 1,
   "metadata": {},
   "outputs": [],
   "source": [
    "# Importaciones:\n",
    "## Para trabajar con expresiones regulares\n",
    "import re \n",
    "\n",
    "## Para contar las palabras de un texto \n",
    "from collections import Counter "
   ]
  },
  {
   "cell_type": "markdown",
   "metadata": {},
   "source": [
    "Dado el archivo `datos_artistas.txt` usa las **expresiones regulares** para extraer los siguientes datos, con el código que encontrarás en la siguiente celda:"
   ]
  },
  {
   "cell_type": "code",
   "execution_count": 2,
   "metadata": {},
   "outputs": [
    {
     "name": "stdout",
     "output_type": "stream",
     "text": [
      "BobDylan bob.dylan@gmail.com -1 123456789 http://bobdylan.com Like a Rolling Stone - 6:13 1965 Once upon a time you dressed so fine\n",
      "Threw the bums a dime in your prime, didn't you?\n",
      "People call say 'beware doll, you're bound to fall'\n",
      "You thought they were all kidding you\n",
      "You used to laugh about\n",
      "Everybody that was hanging out\n",
      "Now you don't talk so loud\n",
      "Now you don't seem so proud\n",
      "About having to be scrounging your next meal\n",
      "How does it feel, how does it feel?\n",
      "To be without a home\n",
      "Like a complete unknown, like a rolling stone\n",
      "Ahh you've gone to the finest schools, alright Miss Lonely\n",
      "But you know you only used to get juiced in it\n",
      "Nobody's ever taught you how to live out on the street\n",
      "And now you're gonna have to get used to it\n",
      "You say you never compromise\n",
      "With the mystery tramp, but now you r\n"
     ]
    }
   ],
   "source": [
    "with open('Datos/datos_artistas.txt', 'r', -1, \"utf8\") as archivo:\n",
    "    contenido = archivo.read()\n",
    "    # Aquí puedes trabajar con el contenido del archivo\n",
    "\n",
    "print(contenido[:800])"
   ]
  },
  {
   "cell_type": "markdown",
   "metadata": {},
   "source": [
    "#### 1.1 La información de cada artista(nombre, correo de contacto, número de contacto y sitio web)."
   ]
  },
  {
   "cell_type": "code",
   "execution_count": 23,
   "metadata": {},
   "outputs": [
    {
     "name": "stdout",
     "output_type": "stream",
     "text": [
      "BobDylan bob.dylan@gmail.com -1 123456789 http://bobdylan.com Like a Rolling Stone - 6:13 1965 Once upon a time you dressed so fine\n",
      "Threw the bums a dime in your prime, didn't you?\n",
      "People call say 'beware doll, you're bound to fall'\n",
      "You thought they were all kidding you\n",
      "You used to laugh about\n",
      "Everybody that was hanging out\n",
      "Now you don't talk so loud\n",
      "Now you don't seem so proud\n",
      "About having to be scrounging your next meal\n",
      "How does it feel, how does it feel?\n",
      "To be without a home\n",
      "Like a complete unknown, like a rolling stone\n",
      "Ahh you've gone to the finest schools, alright Miss Lonely\n",
      "But you know you only used to get juiced in it\n",
      "Nobody's ever taught you how to live out on the street\n",
      "And now you're gonna have to get used to it\n",
      "You say you never compromise\n",
      "With the mystery tramp, but now you realize\n",
      "He's not selling any alibis\n",
      "As you stare into the vacuum of his eyes\n",
      "And say do you want to make a deal?\n",
      "How does it feel, how does it feel?\n",
      "To be on your own, with no direction home\n",
      "A complete unknown, like a rolling stone\n",
      "Ah you never turned around to see the frowns\n",
      "On the jugglers and the clowns when they all did tricks for you\n",
      "You never understood that it ain't no good\n",
      "You shouldn't let other people get your kicks for you\n",
      "You used to ride on a chrome horse with your diplomat\n",
      "Who carried on his shoulder a Siamese cat\n",
      "Ain't it hard when you discovered that\n",
      "He really wasn't where it's at\n",
      "After he took from you everything he could steal\n",
      "How does it feel, how does it feel?\n",
      "To be on your own, with no direction home\n",
      "Like a complete unknown, like a rolling stone\n",
      "Ahh princess on a steeple and all the pretty people\n",
      "They're all drinking, thinking that they've got it made\n",
      "Exchanging all precious gifts\n",
      "But you better take your diamond ring, you better pawn it babe\n",
      "You used to be so amused\n",
      "At Napoleon in rags and the language that he used\n",
      "Go to him he calls you, you can't refuse\n",
      "When you ain't got nothing, you got nothing to lose\n",
      "You're invisible now, you've got no secrets to conceal\n",
      "How does it feel, ah how does it feel?\n",
      "To be on your own, with no direction home\n",
      "Like a complete unknown, like a rolling stone\n",
      "['BobDylan', 'bob.dylan@gmail.com', '-1', '123456789', 'http://bobdylan.com', 'Like', 'a', 'Rolling', 'Stone', '-', '6:13', '1965', 'Once', 'upon', 'a', 'time', 'you', 'dressed', 'so', 'fine\\nThrew', 'the', 'bums', 'a', 'dime', 'in', 'your', 'prime,', \"didn't\", 'you?\\nPeople', 'call', 'say', \"'beware\", 'doll,', \"you're\", 'bound', 'to', \"fall'\\nYou\", 'thought', 'they', 'were', 'all', 'kidding', 'you\\nYou', 'used', 'to', 'laugh', 'about\\nEverybody', 'that', 'was', 'hanging', 'out\\nNow', 'you', \"don't\", 'talk', 'so', 'loud\\nNow', 'you', \"don't\", 'seem', 'so', 'proud\\nAbout', 'having', 'to', 'be', 'scrounging', 'your', 'next', 'meal\\nHow', 'does', 'it', 'feel,', 'how', 'does', 'it', 'feel?\\nTo', 'be', 'without', 'a', 'home\\nLike', 'a', 'complete', 'unknown,', 'like', 'a', 'rolling', 'stone\\nAhh', \"you've\", 'gone', 'to', 'the', 'finest', 'schools,', 'alright', 'Miss', 'Lonely\\nBut', 'you', 'know', 'you', 'only', 'used', 'to', 'get', 'juiced', 'in', \"it\\nNobody's\", 'ever', 'taught', 'you', 'how', 'to', 'live', 'out', 'on', 'the', 'street\\nAnd', 'now', \"you're\", 'gonna', 'have', 'to', 'get', 'used', 'to', 'it\\nYou', 'say', 'you', 'never', 'compromise\\nWith', 'the', 'mystery', 'tramp,', 'but', 'now', 'you', \"realize\\nHe's\", 'not', 'selling', 'any', 'alibis\\nAs', 'you', 'stare', 'into', 'the', 'vacuum', 'of', 'his', 'eyes\\nAnd', 'say', 'do', 'you', 'want', 'to', 'make', 'a', 'deal?\\nHow', 'does', 'it', 'feel,', 'how', 'does', 'it', 'feel?\\nTo', 'be', 'on', 'your', 'own,', 'with', 'no', 'direction', 'home\\nA', 'complete', 'unknown,', 'like', 'a', 'rolling', 'stone\\nAh', 'you', 'never', 'turned', 'around', 'to', 'see', 'the', 'frowns\\nOn', 'the', 'jugglers', 'and', 'the', 'clowns', 'when', 'they', 'all', 'did', 'tricks', 'for', 'you\\nYou', 'never', 'understood', 'that', 'it', \"ain't\", 'no', 'good\\nYou', \"shouldn't\", 'let', 'other', 'people', 'get', 'your', 'kicks', 'for', 'you\\nYou', 'used', 'to', 'ride', 'on', 'a', 'chrome', 'horse', 'with', 'your', 'diplomat\\nWho', 'carried', 'on', 'his', 'shoulder', 'a', 'Siamese', \"cat\\nAin't\", 'it', 'hard', 'when', 'you', 'discovered', 'that\\nHe', 'really', \"wasn't\", 'where', \"it's\", 'at\\nAfter', 'he', 'took', 'from', 'you', 'everything', 'he', 'could', 'steal\\nHow', 'does', 'it', 'feel,', 'how', 'does', 'it', 'feel?\\nTo', 'be', 'on', 'your', 'own,', 'with', 'no', 'direction', 'home\\nLike', 'a', 'complete', 'unknown,', 'like', 'a', 'rolling', 'stone\\nAhh', 'princess', 'on', 'a', 'steeple', 'and', 'all', 'the', 'pretty', \"people\\nThey're\", 'all', 'drinking,', 'thinking', 'that', \"they've\", 'got', 'it', 'made\\nExchanging', 'all', 'precious', 'gifts\\nBut', 'you', 'better', 'take', 'your', 'diamond', 'ring,', 'you', 'better', 'pawn', 'it', 'babe\\nYou', 'used', 'to', 'be', 'so', 'amused\\nAt', 'Napoleon', 'in', 'rags', 'and', 'the', 'language', 'that', 'he', 'used\\nGo', 'to', 'him', 'he', 'calls', 'you,', 'you', \"can't\", 'refuse\\nWhen', 'you', \"ain't\", 'got', 'nothing,', 'you', 'got', 'nothing', 'to', \"lose\\nYou're\", 'invisible', 'now,', \"you've\", 'got', 'no', 'secrets', 'to', 'conceal\\nHow', 'does', 'it', 'feel,', 'ah', 'how', 'does', 'it', 'feel?\\nTo', 'be', 'on', 'your', 'own,', 'with', 'no', 'direction', 'home\\nLike', 'a', 'complete', 'unknown,', 'like', 'a', 'rolling', 'stone']\n",
      "BobDylan\n",
      "bob.dylan@gmail.com\n",
      "123456789\n",
      "http://bobdylan.com\n"
     ]
    }
   ],
   "source": [
    "lista_artistas=contenido.split(\"./\")\n",
    "print(lista_artistas[0])\n",
    "lista_artistas_por_palabras = lista_artistas[0].split(\" \")\n",
    "print(lista_artistas_por_palabras)\n",
    "nombre = lista_artistas_por_palabras[0]\n",
    "print(nombre)\n",
    "correo = lista_artistas_por_palabras[1]\n",
    "print(correo)\n",
    "telefono = lista_artistas_por_palabras[3]\n",
    "print(telefono)\n",
    "sitio_web = lista_artistas_por_palabras[4]\n",
    "print(sitio_web)\n",
    "\n",
    "\n"
   ]
  },
  {
   "cell_type": "code",
   "execution_count": 54,
   "metadata": {},
   "outputs": [
    {
     "name": "stdout",
     "output_type": "stream",
     "text": [
      "BobDylan bob.dylan@gmail.com -1 123456789 http://bobdylan.com Like a Rolling Stone - 6:13 1965 Once upon a time you dressed so fine\n",
      "Threw the bums a dime in your prime, didn't you?\n",
      "People call say 'beware doll, you're bound to fall'\n",
      "You thought they were all kidding you\n",
      "You used to laugh about\n",
      "Everybody that was hanging out\n",
      "Now you don't talk so loud\n",
      "Now you don't seem so proud\n",
      "About having to be scrounging your next meal\n",
      "How does it feel, how does it feel?\n",
      "To be without a home\n",
      "Like a complete unknown, like a rolling stone\n",
      "Ahh you've gone to the finest schools, alright Miss Lonely\n",
      "But you know you only used to get juiced in it\n",
      "Nobody's ever taught you how to live out on the street\n",
      "And now you're gonna have to get used to it\n",
      "You say you never compromise\n",
      "With the mystery tramp, but now you realize\n",
      "He's not selling any alibis\n",
      "As you stare into the vacuum of his eyes\n",
      "And say do you want to make a deal?\n",
      "How does it feel, how does it feel?\n",
      "To be on your own, with no direction home\n",
      "A complete unknown, like a rolling stone\n",
      "Ah you never turned around to see the frowns\n",
      "On the jugglers and the clowns when they all did tricks for you\n",
      "You never understood that it ain't no good\n",
      "You shouldn't let other people get your kicks for you\n",
      "You used to ride on a chrome horse with your diplomat\n",
      "Who carried on his shoulder a Siamese cat\n",
      "Ain't it hard when you discovered that\n",
      "He really wasn't where it's at\n",
      "After he took from you everything he could steal\n",
      "How does it feel, how does it feel?\n",
      "To be on your own, with no direction home\n",
      "Like a complete unknown, like a rolling stone\n",
      "Ahh princess on a steeple and all the pretty people\n",
      "They're all drinking, thinking that they've got it made\n",
      "Exchanging all precious gifts\n",
      "But you better take your diamond ring, you better pawn it babe\n",
      "You used to be so amused\n",
      "At Napoleon in rags and the language that he used\n",
      "Go to him he calls you, you can't refuse\n",
      "When you ain't got nothing, you got nothing to lose\n",
      "You're invisible now, you've got no secrets to conceal\n",
      "How does it feel, ah how does it feel?\n",
      "To be on your own, with no direction home\n",
      "Like a complete unknown, like a rolling stone\n"
     ]
    },
    {
     "ename": "AttributeError",
     "evalue": "'list' object has no attribute 'split'",
     "output_type": "error",
     "traceback": [
      "\u001b[1;31m---------------------------------------------------------------------------\u001b[0m",
      "\u001b[1;31mAttributeError\u001b[0m                            Traceback (most recent call last)",
      "Cell \u001b[1;32mIn[54], line 3\u001b[0m\n\u001b[0;32m      1\u001b[0m lista_artistas \u001b[38;5;241m=\u001b[39m contenido\u001b[38;5;241m.\u001b[39msplit(\u001b[38;5;124m\"\u001b[39m\u001b[38;5;124m./\u001b[39m\u001b[38;5;124m\"\u001b[39m)\n\u001b[0;32m      2\u001b[0m \u001b[38;5;28mprint\u001b[39m(lista_artistas[\u001b[38;5;241m0\u001b[39m])\n\u001b[1;32m----> 3\u001b[0m artista_y_cancion_aux \u001b[38;5;241m=\u001b[39m \u001b[43mlista_artistas\u001b[49m\u001b[38;5;241;43m.\u001b[39;49m\u001b[43msplit\u001b[49m()\n\u001b[0;32m      4\u001b[0m \u001b[38;5;66;03m#print(artista_y_cancion_aux)\u001b[39;00m\n\u001b[0;32m      5\u001b[0m \u001b[38;5;28;01mfor\u001b[39;00m artista_y_cancion \u001b[38;5;129;01min\u001b[39;00m lista_artistas:\n",
      "\u001b[1;31mAttributeError\u001b[0m: 'list' object has no attribute 'split'"
     ]
    }
   ],
   "source": [
    "lista_artistas = contenido.split(\"./\")\n",
    "print(lista_artistas[0])\n",
    "artista_y_cancion_aux = lista_artistas.split()\n",
    "#print(artista_y_cancion_aux)\n",
    "for artista_y_cancion in lista_artistas:\n",
    "    artista_y_cancion_por_palabras = artista_y_cancion.split()\n",
    "    lista_nombres = artista_y_cancion_por_palabras[0]\n",
    "    lista_correos = artista_y_cancion_por_palabras[1]\n",
    "    lista_telefonos = artista_y_cancion_por_palabras[3]\n",
    "    lista_sitios_webs = artista_y_cancion_por_palabras[4]\n",
    "\n",
    "#print(artista_y_cancion)\n",
    "\n",
    "\n",
    "        \n",
    "\n",
    "\n",
    "\n",
    "\n",
    "\n",
    "\n",
    "    "
   ]
  },
  {
   "cell_type": "markdown",
   "metadata": {},
   "source": [
    "#### 1.2 La información de cada canción(título, duración y fecha de lanzamiento)."
   ]
  },
  {
   "cell_type": "markdown",
   "metadata": {},
   "source": [
    "#### 1.3 Almacena la información en una lista de diccionarios donde cada diccionario contenga los datos de un artista y su canción asociada."
   ]
  },
  {
   "cell_type": "markdown",
   "metadata": {},
   "source": [
    "### Ejercicio 2: Análisis de datos\n",
    "Usa las **expresiones regulares** para extraer la siguiente información:"
   ]
  },
  {
   "cell_type": "markdown",
   "metadata": {},
   "source": [
    "#### 2.1 Busca la palabra más repetida en el texto completo.\n"
   ]
  },
  {
   "cell_type": "code",
   "execution_count": 19,
   "metadata": {},
   "outputs": [],
   "source": []
  },
  {
   "cell_type": "markdown",
   "metadata": {},
   "source": [
    "#### 2.2 Busca la palabra que más repetida en cada cación.\n"
   ]
  },
  {
   "cell_type": "code",
   "execution_count": 11,
   "metadata": {},
   "outputs": [],
   "source": []
  },
  {
   "cell_type": "markdown",
   "metadata": {},
   "source": [
    "#### 2.3 Busca el nombre de la canción que más dura.\n"
   ]
  },
  {
   "cell_type": "code",
   "execution_count": 30,
   "metadata": {},
   "outputs": [],
   "source": []
  },
  {
   "cell_type": "markdown",
   "metadata": {},
   "source": [
    "#### 2.4 Busca el nombre de la canción que menos dura."
   ]
  },
  {
   "cell_type": "code",
   "execution_count": null,
   "metadata": {},
   "outputs": [],
   "source": []
  },
  {
   "cell_type": "markdown",
   "metadata": {},
   "source": [
    "#### 2.5 Busca el nombre y la fecha de lanzamiento de la canción más actual."
   ]
  },
  {
   "cell_type": "code",
   "execution_count": 39,
   "metadata": {},
   "outputs": [],
   "source": []
  },
  {
   "cell_type": "markdown",
   "metadata": {},
   "source": [
    "#### 2.6 Calcula la cantidad de países a partir de los números de contacto."
   ]
  },
  {
   "cell_type": "code",
   "execution_count": 43,
   "metadata": {},
   "outputs": [],
   "source": []
  },
  {
   "cell_type": "markdown",
   "metadata": {},
   "source": [
    "#### 2.7 Agrupa las canciones por década."
   ]
  },
  {
   "cell_type": "code",
   "execution_count": 47,
   "metadata": {},
   "outputs": [],
   "source": []
  }
 ],
 "metadata": {
  "kernelspec": {
   "display_name": "envpruebas",
   "language": "python",
   "name": "python3"
  },
  "language_info": {
   "codemirror_mode": {
    "name": "ipython",
    "version": 3
   },
   "file_extension": ".py",
   "mimetype": "text/x-python",
   "name": "python",
   "nbconvert_exporter": "python",
   "pygments_lexer": "ipython3",
   "version": "3.12.6"
  }
 },
 "nbformat": 4,
 "nbformat_minor": 2
}
