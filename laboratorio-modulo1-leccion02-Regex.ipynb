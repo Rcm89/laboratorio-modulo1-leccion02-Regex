{
 "cells": [
  {
   "cell_type": "markdown",
   "metadata": {},
   "source": [
    "<div style=\"text-align: center;\">\n",
    "  <img src=\"https://github.com/Hack-io-Data/Imagenes/blob/main/01-LogosHackio/logo_naranja@4x.png?raw=true\" alt=\"esquema\" />\n",
    "</div>"
   ]
  },
  {
   "cell_type": "markdown",
   "metadata": {},
   "source": [
    "# Laboratorio de Regex:"
   ]
  },
  {
   "cell_type": "markdown",
   "metadata": {},
   "source": [
    "### Ejercicio 1: Extracción de datos.\n",
    "\n",
    "Recuerda que necesitamos hacer importaciones antes de enfrentarnos a un problema. "
   ]
  },
  {
   "cell_type": "code",
   "execution_count": 6,
   "metadata": {},
   "outputs": [],
   "source": [
    "# Importaciones:\n",
    "## Para trabajar con expresiones regulares\n",
    "import re \n",
    "\n",
    "## Para contar las palabras de un texto \n",
    "from collections import Counter "
   ]
  },
  {
   "cell_type": "markdown",
   "metadata": {},
   "source": [
    "Dado el archivo `datos_artistas.txt` usa las **expresiones regulares** para extraer los siguientes datos, con el código que encontrarás en la siguiente celda:"
   ]
  },
  {
   "cell_type": "code",
   "execution_count": 7,
   "metadata": {},
   "outputs": [
    {
     "name": "stdout",
     "output_type": "stream",
     "text": [
      "BobDylan bob.dylan@gmail.com -1 123456789 http://bobdylan.com Like a Rolling Stone - 6:13 1965 Once upon a time you dressed so fine\n",
      "Threw the bums a dime in your prime, didn't you?\n",
      "People call say 'be\n"
     ]
    }
   ],
   "source": [
    "with open('Datos/datos_artistas.txt', 'r', -1, \"utf8\") as archivo:\n",
    "    contenido = archivo.read()\n",
    "    # Aquí puedes trabajar con el contenido del archivo\n",
    "print(contenido[:200])"
   ]
  },
  {
   "cell_type": "markdown",
   "metadata": {},
   "source": [
    "#### 1.1 La información de cada artista(nombre, correo de contacto, número de contacto y sitio web)."
   ]
  },
  {
   "cell_type": "code",
   "execution_count": 20,
   "metadata": {},
   "outputs": [
    {
     "name": "stdout",
     "output_type": "stream",
     "text": [
      "{'nombre_artista': 'BobDylan', 'correo de contacto': 'bob.dylan@gmail.com', 'telefono_artista': '123456789', 'sitio_web_artista': 'http://bobdylan.com'}\n",
      "{'nombre_artista': 'TheBeatles', 'correo de contacto': 'contact@thebeatles.co.uk', 'telefono_artista': '234567890', 'sitio_web_artista': 'http://thebeatles.co.uk'}\n",
      "{'nombre_artista': 'EltonJohn', 'correo de contacto': 'elton.john@hotmail.com', 'telefono_artista': '345678901', 'sitio_web_artista': 'http://eltonjohn.com'}\n",
      "{'nombre_artista': 'Queen', 'correo de contacto': 'info@queenonline.com', 'telefono_artista': '456789012', 'sitio_web_artista': 'http://queenonline.com'}\n",
      "{'nombre_artista': 'MichaelJackson', 'correo de contacto': 'michael.jackson@yahoo.com', 'telefono_artista': '567890123', 'sitio_web_artista': 'http://michaeljackson.com'}\n",
      "{'nombre_artista': 'Madonna', 'correo de contacto': 'madonna@madonna.com', 'telefono_artista': '678901234', 'sitio_web_artista': 'http://madonna.com'}\n",
      "{'nombre_artista': 'DavidBowie', 'correo de contacto': 'david.bowie@outlook.com', 'telefono_artista': '789012345', 'sitio_web_artista': 'http://davidbowie.com'}\n",
      "{'nombre_artista': 'Nirvana', 'correo de contacto': 'contact@nirvana.com', 'telefono_artista': '890123456', 'sitio_web_artista': 'http://nirvana.com'}\n",
      "{'nombre_artista': 'Adele', 'correo de contacto': 'adele@adele.com', 'telefono_artista': '901234567', 'sitio_web_artista': 'http://adele.com'}\n",
      "{'nombre_artista': 'EdSheeran', 'correo de contacto': 'ed.sheeran@gmail.com', 'telefono_artista': '123456789', 'sitio_web_artista': 'http://edsheeran.com'}\n",
      "{'nombre_artista': 'Beyoncé', 'correo de contacto': 'beyonce@beyonce.com', 'telefono_artista': '234567890', 'sitio_web_artista': 'http://beyonce.com'}\n",
      "{'nombre_artista': 'TaylorSwift', 'correo de contacto': 'taylor.swift@yahoo.com', 'telefono_artista': '345678901', 'sitio_web_artista': 'http://taylorswift.com'}\n",
      "{'nombre_artista': 'Rihanna', 'correo de contacto': 'rihanna@hotmail.com', 'telefono_artista': '456789012', 'sitio_web_artista': 'http://rihanna.com'}\n",
      "{'nombre_artista': 'Drake,', 'correo de contacto': 'drake@drake.com', 'telefono_artista': '567890123,', 'sitio_web_artista': 'http://drake.com'}\n",
      "{'nombre_artista': 'KanyeWest', 'correo de contacto': 'kanye.west@gmail.com', 'telefono_artista': '678901234', 'sitio_web_artista': 'http://kanyewest.com'}\n",
      "{'nombre_artista': 'BrunoMars', 'correo de contacto': 'bruno.mars@outlook.com', 'telefono_artista': '789012345', 'sitio_web_artista': 'https://brunomars.com'}\n",
      "{'nombre_artista': 'ArianaGrande', 'correo de contacto': 'ariana.grande@yahoo.com', 'telefono_artista': '890123456', 'sitio_web_artista': 'https://arianagrande.com'}\n",
      "{'nombre_artista': 'Shakira,', 'correo de contacto': 'shakira@hotmail.com', 'telefono_artista': '123456789,', 'sitio_web_artista': 'http://shakira.com'}\n",
      "{'nombre_artista': 'Coldplay', 'correo de contacto': 'info@coldplay.com', 'telefono_artista': '234567890', 'sitio_web_artista': 'http://coldplay.com'}\n",
      "{'nombre_artista': 'LadyGaga', 'correo de contacto': 'lady.gaga@gmail.com', 'telefono_artista': '345678901', 'sitio_web_artista': 'https://ladygaga.com'}\n"
     ]
    }
   ],
   "source": [
    "# Separamos por ./ de manera que nos queda una lista en la que cada elemento es la información de un artista y cancion\n",
    "lista_info_artistas = contenido.split(\"./\") \n",
    "# Iteramos sobre la lista dividiendola en palabras facilitando acceder a la información pedida\n",
    "# que guardamos en un diccionario para cada artistta\n",
    "\n",
    "for datos_artista in lista_info_artistas:\n",
    "    datos_artista_por_palabras = datos_artista.split()\n",
    "    nombre = datos_artista_por_palabras[0]\n",
    "    correo = datos_artista_por_palabras[1]\n",
    "    telefono = datos_artista_por_palabras[3]\n",
    "    sitio_web = datos_artista_por_palabras[4]\n",
    "    artista_info = {\n",
    "    \"nombre_artista\": nombre,\n",
    "    \"correo de contacto\": correo,\n",
    "    \"telefono_artista\": telefono,\n",
    "    \"sitio_web_artista\": sitio_web\n",
    "    }\n",
    "    print (artista_info) #imprime un diccionario por cada artista del fichero"
   ]
  },
  {
   "cell_type": "code",
   "execution_count": 9,
   "metadata": {},
   "outputs": [
    {
     "name": "stdout",
     "output_type": "stream",
     "text": [
      "{'nombre_artista': 'BobDylan', 'correo de contacto': 'bob.dylan@gmail.com', 'telefono_artista': '123456789', 'sitio_web_artista': 'http://bobdylan.com'}\n",
      "{'nombre_artista': 'TheBeatles', 'correo de contacto': 'contact@thebeatles.co.uk', 'telefono_artista': '234567890', 'sitio_web_artista': 'http://thebeatles.co.uk'}\n",
      "{'nombre_artista': 'EltonJohn', 'correo de contacto': 'elton.john@hotmail.com', 'telefono_artista': '345678901', 'sitio_web_artista': 'http://eltonjohn.com'}\n",
      "{'nombre_artista': 'Queen', 'correo de contacto': 'info@queenonline.com', 'telefono_artista': '456789012', 'sitio_web_artista': 'http://queenonline.com'}\n",
      "{'nombre_artista': 'MichaelJackson', 'correo de contacto': 'michael.jackson@yahoo.com', 'telefono_artista': '567890123', 'sitio_web_artista': 'http://michaeljackson.com'}\n",
      "{'nombre_artista': 'Madonna', 'correo de contacto': 'madonna@madonna.com', 'telefono_artista': '678901234', 'sitio_web_artista': 'http://madonna.com'}\n",
      "{'nombre_artista': 'DavidBowie', 'correo de contacto': 'david.bowie@outlook.com', 'telefono_artista': '789012345', 'sitio_web_artista': 'http://davidbowie.com'}\n",
      "{'nombre_artista': 'Nirvana', 'correo de contacto': 'contact@nirvana.com', 'telefono_artista': '890123456', 'sitio_web_artista': 'http://nirvana.com'}\n",
      "{'nombre_artista': 'Adele', 'correo de contacto': 'adele@adele.com', 'telefono_artista': '901234567', 'sitio_web_artista': 'http://adele.com'}\n",
      "{'nombre_artista': 'EdSheeran', 'correo de contacto': 'ed.sheeran@gmail.com', 'telefono_artista': '123456789', 'sitio_web_artista': 'http://edsheeran.com'}\n",
      "{'nombre_artista': 'Beyoncé', 'correo de contacto': 'beyonce@beyonce.com', 'telefono_artista': '234567890', 'sitio_web_artista': 'http://beyonce.com'}\n",
      "{'nombre_artista': 'TaylorSwift', 'correo de contacto': 'taylor.swift@yahoo.com', 'telefono_artista': '345678901', 'sitio_web_artista': 'http://taylorswift.com'}\n",
      "{'nombre_artista': 'Rihanna', 'correo de contacto': 'rihanna@hotmail.com', 'telefono_artista': '456789012', 'sitio_web_artista': 'http://rihanna.com'}\n",
      "{'nombre_artista': 'Drake,', 'correo de contacto': 'drake@drake.com', 'telefono_artista': '567890123,', 'sitio_web_artista': 'http://drake.com'}\n",
      "{'nombre_artista': 'KanyeWest', 'correo de contacto': 'kanye.west@gmail.com', 'telefono_artista': '678901234', 'sitio_web_artista': 'http://kanyewest.com'}\n",
      "{'nombre_artista': 'BrunoMars', 'correo de contacto': 'bruno.mars@outlook.com', 'telefono_artista': '789012345', 'sitio_web_artista': 'https://brunomars.com'}\n",
      "{'nombre_artista': 'ArianaGrande', 'correo de contacto': 'ariana.grande@yahoo.com', 'telefono_artista': '890123456', 'sitio_web_artista': 'https://arianagrande.com'}\n",
      "{'nombre_artista': 'Shakira,', 'correo de contacto': 'shakira@hotmail.com', 'telefono_artista': '123456789,', 'sitio_web_artista': 'http://shakira.com'}\n",
      "{'nombre_artista': 'Coldplay', 'correo de contacto': 'info@coldplay.com', 'telefono_artista': '234567890', 'sitio_web_artista': 'http://coldplay.com'}\n",
      "{'nombre_artista': 'LadyGaga', 'correo de contacto': 'lady.gaga@gmail.com', 'telefono_artista': '345678901', 'sitio_web_artista': 'https://ladygaga.com'}\n"
     ]
    }
   ],
   "source": [
    "def extraer_informacion_artista(datos_artista):\n",
    "    \"\"\"Procesa los datos de un artista y devuelve un diccionario con su información.\"\"\"\n",
    "    # Separamos los datos del artista en una lista de strings (palabras) lo que nos permite acceder a la\n",
    "    # información buscada en posiciones de dicha lista\n",
    "    datos_artista_por_palabras = datos_artista.split() \n",
    "    nombre = datos_artista_por_palabras[0]\n",
    "    correo = datos_artista_por_palabras[1]\n",
    "    telefono = datos_artista_por_palabras[3]\n",
    "    sitio_web = datos_artista_por_palabras[4]\n",
    "    # Diccionario con la información del artista\n",
    "    artista_info = {\n",
    "        \"nombre_artista\": nombre,\n",
    "        \"correo de contacto\": correo,\n",
    "        \"telefono_artista\": telefono,\n",
    "        \"sitio_web_artista\": sitio_web\n",
    "    }\n",
    "    return artista_info\n",
    "\n",
    "def procesar_artistas(contenido):\n",
    "    \"\"\"Procesa el contenido de un archivo y devuelve una lista con la información de cada artista.\"\"\"\n",
    "    # Separamos los datos en una lista en la que cada elemento es la info de un artista\n",
    "    lista_info_artistas = contenido.split(\"./\")  \n",
    "    lista_artistas = []\n",
    "    # Iteramos sobre cada conjunto de datos de artista\n",
    "    for datos_artista in lista_info_artistas:\n",
    "        artista_info = extraer_informacion_artista(datos_artista)\n",
    "        lista_artistas.append(artista_info)\n",
    "    return lista_artistas\n",
    "\n",
    "#Ejecutamos la funcion con los datos del fichero dado\n",
    "\n",
    "artistas_info = procesar_artistas(contenido)\n",
    "\n",
    "# Imprimimos la información de cada artista\n",
    "for artista in artistas_info:\n",
    "    print(artista)"
   ]
  },
  {
   "cell_type": "markdown",
   "metadata": {},
   "source": [
    "#### 1.2 La información de cada canción(título, duración y fecha de lanzamiento)."
   ]
  },
  {
   "cell_type": "code",
   "execution_count": 17,
   "metadata": {},
   "outputs": [
    {
     "name": "stdout",
     "output_type": "stream",
     "text": [
      "Título: com Like a Rolling Stone, Duración: 6:13, Fecha de lanzamiento: 1965\n",
      "Título: uk Hey Jude, Duración: 7:11, Fecha de lanzamiento: 1968\n",
      "Título: com Your Song, Duración: 4:01, Fecha de lanzamiento: 1970\n",
      "Título: com Bohemian Rhapsody, Duración: 5:55, Fecha de lanzamiento: 1975\n",
      "Título: com Billie Jean, Duración: 4:54, Fecha de lanzamiento: 1982\n",
      "Título: com Like a Prayer, Duración: 5:43, Fecha de lanzamiento: 1989\n",
      "Título: com Space Oddity, Duración: 5:18, Fecha de lanzamiento: 1969\n",
      "Título: com Smells Like Teen Spirit, Duración: 5:01, Fecha de lanzamiento: 1991\n",
      "Título: com Someone Like You, Duración: 4:45, Fecha de lanzamiento: 2011\n",
      "Título: com Shape of You, Duración: 3:53, Fecha de lanzamiento: 2017\n",
      "Título: com Halo, Duración: 4:21, Fecha de lanzamiento: 2008\n",
      "Título: com Blank Space, Duración: 3:52, Fecha de lanzamiento: 2014\n",
      "Título: com Hotline Bling, Duración: 4:27, Fecha de lanzamiento: 2015\n",
      "Título: com Stronger, Duración: 5:12, Fecha de lanzamiento: 2007\n",
      "Título: com Uptown Funk, Duración: 4:30, Fecha de lanzamiento: 2014\n",
      "Título: com 7 Rings, Duración: 2:58, Fecha de lanzamiento: 2019\n",
      "Título: t Lie, Duración: 3:38, Fecha de lanzamiento: 2006\n",
      "Título: com Yellow, Duración: 4:26, Fecha de lanzamiento: 2000\n",
      "Título: com Bad Romance, Duración: 4:54, Fecha de lanzamiento: 2009\n"
     ]
    }
   ],
   "source": [
    "\n",
    "patron = r'(\\w+(?:\\s\\w+)*)\\s-\\s(\\d{1,2}:\\d{2})\\s(\\d{4})'\n",
    "\n",
    "canciones = re.findall(patron, contenido)\n",
    "\n",
    "for cancion in canciones:\n",
    "    print(f\"Título: {cancion[0]}, Duración: {cancion[1]}, Fecha de lanzamiento: {cancion[2]}\")"
   ]
  },
  {
   "cell_type": "markdown",
   "metadata": {},
   "source": [
    "#### 1.3 Almacena la información en una lista de diccionarios donde cada diccionario contenga los datos de un artista y su canción asociada."
   ]
  },
  {
   "cell_type": "markdown",
   "metadata": {},
   "source": [
    "### Ejercicio 2: Análisis de datos\n",
    "Usa las **expresiones regulares** para extraer la siguiente información:"
   ]
  },
  {
   "cell_type": "markdown",
   "metadata": {},
   "source": [
    "#### 2.1 Busca la palabra más repetida en el texto completo.\n"
   ]
  },
  {
   "cell_type": "markdown",
   "metadata": {},
   "source": [
    "#### 2.2 Busca la palabra que más repetida en cada cación.\n"
   ]
  },
  {
   "cell_type": "code",
   "execution_count": 11,
   "metadata": {},
   "outputs": [],
   "source": []
  },
  {
   "cell_type": "markdown",
   "metadata": {},
   "source": [
    "#### 2.3 Busca el nombre de la canción que más dura.\n"
   ]
  },
  {
   "cell_type": "code",
   "execution_count": 30,
   "metadata": {},
   "outputs": [],
   "source": []
  },
  {
   "cell_type": "markdown",
   "metadata": {},
   "source": [
    "#### 2.4 Busca el nombre de la canción que menos dura."
   ]
  },
  {
   "cell_type": "code",
   "execution_count": null,
   "metadata": {},
   "outputs": [],
   "source": []
  },
  {
   "cell_type": "markdown",
   "metadata": {},
   "source": [
    "#### 2.5 Busca el nombre y la fecha de lanzamiento de la canción más actual."
   ]
  },
  {
   "cell_type": "code",
   "execution_count": 39,
   "metadata": {},
   "outputs": [],
   "source": []
  },
  {
   "cell_type": "markdown",
   "metadata": {},
   "source": [
    "#### 2.6 Calcula la cantidad de países a partir de los números de contacto."
   ]
  },
  {
   "cell_type": "code",
   "execution_count": 43,
   "metadata": {},
   "outputs": [],
   "source": []
  },
  {
   "cell_type": "markdown",
   "metadata": {},
   "source": [
    "#### 2.7 Agrupa las canciones por década."
   ]
  },
  {
   "cell_type": "code",
   "execution_count": 47,
   "metadata": {},
   "outputs": [],
   "source": []
  }
 ],
 "metadata": {
  "kernelspec": {
   "display_name": "envpruebas",
   "language": "python",
   "name": "python3"
  },
  "language_info": {
   "codemirror_mode": {
    "name": "ipython",
    "version": 3
   },
   "file_extension": ".py",
   "mimetype": "text/x-python",
   "name": "python",
   "nbconvert_exporter": "python",
   "pygments_lexer": "ipython3",
   "version": "3.12.6"
  }
 },
 "nbformat": 4,
 "nbformat_minor": 2
}
